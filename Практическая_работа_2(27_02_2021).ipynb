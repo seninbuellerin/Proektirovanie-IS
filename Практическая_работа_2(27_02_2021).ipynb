{
  "nbformat": 4,
  "nbformat_minor": 0,
  "metadata": {
    "colab": {
      "name": "Практическая работа 2(27.02.2021).ipynb",
      "provenance": [],
      "include_colab_link": true
    },
    "kernelspec": {
      "name": "python3",
      "display_name": "Python 3"
    },
    "widgets": {
      "application/vnd.jupyter.widget-state+json": {
        "f43d98075ed04c8abe0beb2b99df54d9": {
          "model_module": "@jupyter-widgets/controls",
          "model_name": "IntSliderModel",
          "state": {
            "_view_name": "IntSliderView",
            "style": "IPY_MODEL_0eb230576d1c4647a16efc7b9bf5c8fe",
            "_dom_classes": [],
            "description": "",
            "step": 1,
            "_model_name": "IntSliderModel",
            "orientation": "horizontal",
            "max": 100,
            "_view_module": "@jupyter-widgets/controls",
            "_model_module_version": "1.5.0",
            "value": 17,
            "_view_count": null,
            "disabled": false,
            "_view_module_version": "1.5.0",
            "min": 0,
            "continuous_update": true,
            "readout_format": "d",
            "description_tooltip": null,
            "readout": true,
            "_model_module": "@jupyter-widgets/controls",
            "layout": "IPY_MODEL_22448e180ab94ed4bbdca6edefde096d"
          }
        },
        "0eb230576d1c4647a16efc7b9bf5c8fe": {
          "model_module": "@jupyter-widgets/controls",
          "model_name": "SliderStyleModel",
          "state": {
            "_view_name": "StyleView",
            "handle_color": null,
            "_model_name": "SliderStyleModel",
            "description_width": "",
            "_view_module": "@jupyter-widgets/base",
            "_model_module_version": "1.5.0",
            "_view_count": null,
            "_view_module_version": "1.2.0",
            "_model_module": "@jupyter-widgets/controls"
          }
        },
        "22448e180ab94ed4bbdca6edefde096d": {
          "model_module": "@jupyter-widgets/base",
          "model_name": "LayoutModel",
          "state": {
            "_view_name": "LayoutView",
            "grid_template_rows": null,
            "right": null,
            "justify_content": null,
            "_view_module": "@jupyter-widgets/base",
            "overflow": null,
            "_model_module_version": "1.2.0",
            "_view_count": null,
            "flex_flow": null,
            "width": null,
            "min_width": null,
            "border": null,
            "align_items": null,
            "bottom": null,
            "_model_module": "@jupyter-widgets/base",
            "top": null,
            "grid_column": null,
            "overflow_y": null,
            "overflow_x": null,
            "grid_auto_flow": null,
            "grid_area": null,
            "grid_template_columns": null,
            "flex": null,
            "_model_name": "LayoutModel",
            "justify_items": null,
            "grid_row": null,
            "max_height": null,
            "align_content": null,
            "visibility": null,
            "align_self": null,
            "height": null,
            "min_height": null,
            "padding": null,
            "grid_auto_rows": null,
            "grid_gap": null,
            "max_width": null,
            "order": null,
            "_view_module_version": "1.2.0",
            "grid_template_areas": null,
            "object_position": null,
            "object_fit": null,
            "grid_auto_columns": null,
            "margin": null,
            "display": null,
            "left": null
          }
        },
        "af86cf1ed2414eacbbdbdaec81bb6afb": {
          "model_module": "@jupyter-widgets/controls",
          "model_name": "IntSliderModel",
          "state": {
            "_view_name": "IntSliderView",
            "style": "IPY_MODEL_7eb532ce24b743ca8c467ce74f875e43",
            "_dom_classes": [],
            "description": "",
            "step": 1,
            "_model_name": "IntSliderModel",
            "orientation": "horizontal",
            "max": 100,
            "_view_module": "@jupyter-widgets/controls",
            "_model_module_version": "1.5.0",
            "value": 21,
            "_view_count": null,
            "disabled": false,
            "_view_module_version": "1.5.0",
            "min": 0,
            "continuous_update": true,
            "readout_format": "d",
            "description_tooltip": null,
            "readout": true,
            "_model_module": "@jupyter-widgets/controls",
            "layout": "IPY_MODEL_4d31217c3b1d406f89efde059ad02e5c"
          }
        },
        "7eb532ce24b743ca8c467ce74f875e43": {
          "model_module": "@jupyter-widgets/controls",
          "model_name": "SliderStyleModel",
          "state": {
            "_view_name": "StyleView",
            "handle_color": null,
            "_model_name": "SliderStyleModel",
            "description_width": "",
            "_view_module": "@jupyter-widgets/base",
            "_model_module_version": "1.5.0",
            "_view_count": null,
            "_view_module_version": "1.2.0",
            "_model_module": "@jupyter-widgets/controls"
          }
        },
        "4d31217c3b1d406f89efde059ad02e5c": {
          "model_module": "@jupyter-widgets/base",
          "model_name": "LayoutModel",
          "state": {
            "_view_name": "LayoutView",
            "grid_template_rows": null,
            "right": null,
            "justify_content": null,
            "_view_module": "@jupyter-widgets/base",
            "overflow": null,
            "_model_module_version": "1.2.0",
            "_view_count": null,
            "flex_flow": null,
            "width": null,
            "min_width": null,
            "border": null,
            "align_items": null,
            "bottom": null,
            "_model_module": "@jupyter-widgets/base",
            "top": null,
            "grid_column": null,
            "overflow_y": null,
            "overflow_x": null,
            "grid_auto_flow": null,
            "grid_area": null,
            "grid_template_columns": null,
            "flex": null,
            "_model_name": "LayoutModel",
            "justify_items": null,
            "grid_row": null,
            "max_height": null,
            "align_content": null,
            "visibility": null,
            "align_self": null,
            "height": null,
            "min_height": null,
            "padding": null,
            "grid_auto_rows": null,
            "grid_gap": null,
            "max_width": null,
            "order": null,
            "_view_module_version": "1.2.0",
            "grid_template_areas": null,
            "object_position": null,
            "object_fit": null,
            "grid_auto_columns": null,
            "margin": null,
            "display": null,
            "left": null
          }
        },
        "82bff99802b94d1bbbfa407cd5397f50": {
          "model_module": "@jupyter-widgets/controls",
          "model_name": "TextModel",
          "state": {
            "_view_name": "TextView",
            "style": "IPY_MODEL_f688cefbe85745cda26fe67fe24fd594",
            "_dom_classes": [],
            "description": "",
            "_model_name": "TextModel",
            "placeholder": "​",
            "_view_module": "@jupyter-widgets/controls",
            "_model_module_version": "1.5.0",
            "value": "Марина",
            "_view_count": null,
            "disabled": false,
            "_view_module_version": "1.5.0",
            "continuous_update": true,
            "description_tooltip": null,
            "_model_module": "@jupyter-widgets/controls",
            "layout": "IPY_MODEL_a0b006b790364add84b5a62631312cfc"
          }
        },
        "f688cefbe85745cda26fe67fe24fd594": {
          "model_module": "@jupyter-widgets/controls",
          "model_name": "DescriptionStyleModel",
          "state": {
            "_view_name": "StyleView",
            "_model_name": "DescriptionStyleModel",
            "description_width": "",
            "_view_module": "@jupyter-widgets/base",
            "_model_module_version": "1.5.0",
            "_view_count": null,
            "_view_module_version": "1.2.0",
            "_model_module": "@jupyter-widgets/controls"
          }
        },
        "a0b006b790364add84b5a62631312cfc": {
          "model_module": "@jupyter-widgets/base",
          "model_name": "LayoutModel",
          "state": {
            "_view_name": "LayoutView",
            "grid_template_rows": null,
            "right": null,
            "justify_content": null,
            "_view_module": "@jupyter-widgets/base",
            "overflow": null,
            "_model_module_version": "1.2.0",
            "_view_count": null,
            "flex_flow": null,
            "width": null,
            "min_width": null,
            "border": null,
            "align_items": null,
            "bottom": null,
            "_model_module": "@jupyter-widgets/base",
            "top": null,
            "grid_column": null,
            "overflow_y": null,
            "overflow_x": null,
            "grid_auto_flow": null,
            "grid_area": null,
            "grid_template_columns": null,
            "flex": null,
            "_model_name": "LayoutModel",
            "justify_items": null,
            "grid_row": null,
            "max_height": null,
            "align_content": null,
            "visibility": null,
            "align_self": null,
            "height": null,
            "min_height": null,
            "padding": null,
            "grid_auto_rows": null,
            "grid_gap": null,
            "max_width": null,
            "order": null,
            "_view_module_version": "1.2.0",
            "grid_template_areas": null,
            "object_position": null,
            "object_fit": null,
            "grid_auto_columns": null,
            "margin": null,
            "display": null,
            "left": null
          }
        },
        "e364ecb7448f4a4a863df2dfca7e6479": {
          "model_module": "@jupyter-widgets/controls",
          "model_name": "IntProgressModel",
          "state": {
            "_view_name": "ProgressView",
            "style": "IPY_MODEL_447e8621c08943e1bb128e751144eea0",
            "_dom_classes": [],
            "description": "Loading",
            "_model_name": "IntProgressModel",
            "bar_style": "success",
            "max": 100,
            "_view_module": "@jupyter-widgets/controls",
            "_model_module_version": "1.5.0",
            "value": 100,
            "_view_count": null,
            "_view_module_version": "1.5.0",
            "orientation": "horizontal",
            "min": 1,
            "description_tooltip": null,
            "_model_module": "@jupyter-widgets/controls",
            "layout": "IPY_MODEL_d8bca7627d1b49809f017177c9d6dca5"
          }
        },
        "447e8621c08943e1bb128e751144eea0": {
          "model_module": "@jupyter-widgets/controls",
          "model_name": "ProgressStyleModel",
          "state": {
            "_view_name": "StyleView",
            "_model_name": "ProgressStyleModel",
            "description_width": "",
            "_view_module": "@jupyter-widgets/base",
            "_model_module_version": "1.5.0",
            "_view_count": null,
            "_view_module_version": "1.2.0",
            "bar_color": null,
            "_model_module": "@jupyter-widgets/controls"
          }
        },
        "d8bca7627d1b49809f017177c9d6dca5": {
          "model_module": "@jupyter-widgets/base",
          "model_name": "LayoutModel",
          "state": {
            "_view_name": "LayoutView",
            "grid_template_rows": null,
            "right": null,
            "justify_content": null,
            "_view_module": "@jupyter-widgets/base",
            "overflow": null,
            "_model_module_version": "1.2.0",
            "_view_count": null,
            "flex_flow": null,
            "width": null,
            "min_width": null,
            "border": null,
            "align_items": null,
            "bottom": null,
            "_model_module": "@jupyter-widgets/base",
            "top": null,
            "grid_column": null,
            "overflow_y": null,
            "overflow_x": null,
            "grid_auto_flow": null,
            "grid_area": null,
            "grid_template_columns": null,
            "flex": null,
            "_model_name": "LayoutModel",
            "justify_items": null,
            "grid_row": null,
            "max_height": null,
            "align_content": null,
            "visibility": null,
            "align_self": null,
            "height": null,
            "min_height": null,
            "padding": null,
            "grid_auto_rows": null,
            "grid_gap": null,
            "max_width": null,
            "order": null,
            "_view_module_version": "1.2.0",
            "grid_template_areas": null,
            "object_position": null,
            "object_fit": null,
            "grid_auto_columns": null,
            "margin": null,
            "display": null,
            "left": null
          }
        },
        "14023602306b4170b64507096463593a": {
          "model_module": "@jupyter-widgets/controls",
          "model_name": "ButtonModel",
          "state": {
            "_view_name": "ButtonView",
            "style": "IPY_MODEL_7ca661d4f0934e9184f00198d871f1a0",
            "_dom_classes": [],
            "description": "Click Me",
            "_model_name": "ButtonModel",
            "button_style": "",
            "_view_module": "@jupyter-widgets/controls",
            "_model_module_version": "1.5.0",
            "tooltip": "",
            "_view_count": null,
            "disabled": false,
            "_view_module_version": "1.5.0",
            "layout": "IPY_MODEL_7a3391b45d9d44d9b28078deaabe88c2",
            "_model_module": "@jupyter-widgets/controls",
            "icon": ""
          }
        },
        "7ca661d4f0934e9184f00198d871f1a0": {
          "model_module": "@jupyter-widgets/controls",
          "model_name": "ButtonStyleModel",
          "state": {
            "_view_name": "StyleView",
            "_model_name": "ButtonStyleModel",
            "_view_module": "@jupyter-widgets/base",
            "_model_module_version": "1.5.0",
            "_view_count": null,
            "button_color": null,
            "font_weight": "",
            "_view_module_version": "1.2.0",
            "_model_module": "@jupyter-widgets/controls"
          }
        },
        "7a3391b45d9d44d9b28078deaabe88c2": {
          "model_module": "@jupyter-widgets/base",
          "model_name": "LayoutModel",
          "state": {
            "_view_name": "LayoutView",
            "grid_template_rows": null,
            "right": null,
            "justify_content": null,
            "_view_module": "@jupyter-widgets/base",
            "overflow": null,
            "_model_module_version": "1.2.0",
            "_view_count": null,
            "flex_flow": null,
            "width": null,
            "min_width": null,
            "border": null,
            "align_items": null,
            "bottom": null,
            "_model_module": "@jupyter-widgets/base",
            "top": null,
            "grid_column": null,
            "overflow_y": null,
            "overflow_x": null,
            "grid_auto_flow": null,
            "grid_area": null,
            "grid_template_columns": null,
            "flex": null,
            "_model_name": "LayoutModel",
            "justify_items": null,
            "grid_row": null,
            "max_height": null,
            "align_content": null,
            "visibility": null,
            "align_self": null,
            "height": null,
            "min_height": null,
            "padding": null,
            "grid_auto_rows": null,
            "grid_gap": null,
            "max_width": null,
            "order": null,
            "_view_module_version": "1.2.0",
            "grid_template_areas": null,
            "object_position": null,
            "object_fit": null,
            "grid_auto_columns": null,
            "margin": null,
            "display": null,
            "left": null
          }
        },
        "33d8cd0581024377852ac84e0dc18609": {
          "model_module": "@jupyter-widgets/output",
          "model_name": "OutputModel",
          "state": {
            "_view_name": "OutputView",
            "msg_id": "",
            "_dom_classes": [],
            "_model_name": "OutputModel",
            "outputs": [
              {
                "output_type": "stream",
                "metadata": {
                  "tags": []
                },
                "text": "Кнопка нажата (msg1).\nКнопка нажата (msg2).\n",
                "stream": "stdout"
              }
            ],
            "_view_module": "@jupyter-widgets/output",
            "_model_module_version": "1.0.0",
            "_view_count": null,
            "_view_module_version": "1.0.0",
            "layout": "IPY_MODEL_e5c2eecd24984e3098e2ca2c44518a5d",
            "_model_module": "@jupyter-widgets/output"
          }
        },
        "e5c2eecd24984e3098e2ca2c44518a5d": {
          "model_module": "@jupyter-widgets/base",
          "model_name": "LayoutModel",
          "state": {
            "_view_name": "LayoutView",
            "grid_template_rows": null,
            "right": null,
            "justify_content": null,
            "_view_module": "@jupyter-widgets/base",
            "overflow": null,
            "_model_module_version": "1.2.0",
            "_view_count": null,
            "flex_flow": null,
            "width": null,
            "min_width": null,
            "border": null,
            "align_items": null,
            "bottom": null,
            "_model_module": "@jupyter-widgets/base",
            "top": null,
            "grid_column": null,
            "overflow_y": null,
            "overflow_x": null,
            "grid_auto_flow": null,
            "grid_area": null,
            "grid_template_columns": null,
            "flex": null,
            "_model_name": "LayoutModel",
            "justify_items": null,
            "grid_row": null,
            "max_height": null,
            "align_content": null,
            "visibility": null,
            "align_self": null,
            "height": null,
            "min_height": null,
            "padding": null,
            "grid_auto_rows": null,
            "grid_gap": null,
            "max_width": null,
            "order": null,
            "_view_module_version": "1.2.0",
            "grid_template_areas": null,
            "object_position": null,
            "object_fit": null,
            "grid_auto_columns": null,
            "margin": null,
            "display": null,
            "left": null
          }
        },
        "5a3d3d2206284a5bb006f1eee2993d13": {
          "model_module": "@jupyter-widgets/controls",
          "model_name": "VBoxModel",
          "state": {
            "_view_name": "VBoxView",
            "_dom_classes": [
              "widget-interact"
            ],
            "_model_name": "VBoxModel",
            "_view_module": "@jupyter-widgets/controls",
            "_model_module_version": "1.5.0",
            "_view_count": null,
            "_view_module_version": "1.5.0",
            "box_style": "",
            "layout": "IPY_MODEL_627a648a3ea941c3af05dbdd9178d877",
            "_model_module": "@jupyter-widgets/controls",
            "children": [
              "IPY_MODEL_8243a1b945e74cf6a8e45c1b4bc746b2",
              "IPY_MODEL_86f1c560f9c14958977156c4265c5fc0"
            ]
          }
        },
        "627a648a3ea941c3af05dbdd9178d877": {
          "model_module": "@jupyter-widgets/base",
          "model_name": "LayoutModel",
          "state": {
            "_view_name": "LayoutView",
            "grid_template_rows": null,
            "right": null,
            "justify_content": null,
            "_view_module": "@jupyter-widgets/base",
            "overflow": null,
            "_model_module_version": "1.2.0",
            "_view_count": null,
            "flex_flow": null,
            "width": null,
            "min_width": null,
            "border": null,
            "align_items": null,
            "bottom": null,
            "_model_module": "@jupyter-widgets/base",
            "top": null,
            "grid_column": null,
            "overflow_y": null,
            "overflow_x": null,
            "grid_auto_flow": null,
            "grid_area": null,
            "grid_template_columns": null,
            "flex": null,
            "_model_name": "LayoutModel",
            "justify_items": null,
            "grid_row": null,
            "max_height": null,
            "align_content": null,
            "visibility": null,
            "align_self": null,
            "height": null,
            "min_height": null,
            "padding": null,
            "grid_auto_rows": null,
            "grid_gap": null,
            "max_width": null,
            "order": null,
            "_view_module_version": "1.2.0",
            "grid_template_areas": null,
            "object_position": null,
            "object_fit": null,
            "grid_auto_columns": null,
            "margin": null,
            "display": null,
            "left": null
          }
        },
        "8243a1b945e74cf6a8e45c1b4bc746b2": {
          "model_module": "@jupyter-widgets/controls",
          "model_name": "DropdownModel",
          "state": {
            "_options_labels": [
              "a",
              "b",
              "c",
              "d"
            ],
            "_view_name": "DropdownView",
            "style": "IPY_MODEL_7c0f10c76c30409f84c795e60be4ac78",
            "_dom_classes": [],
            "description": "name",
            "_model_name": "DropdownModel",
            "index": 0,
            "_view_module": "@jupyter-widgets/controls",
            "_model_module_version": "1.5.0",
            "_view_count": null,
            "disabled": false,
            "_view_module_version": "1.5.0",
            "description_tooltip": null,
            "_model_module": "@jupyter-widgets/controls",
            "layout": "IPY_MODEL_6f8f48be313d4da583a552c76564af5d"
          }
        },
        "86f1c560f9c14958977156c4265c5fc0": {
          "model_module": "@jupyter-widgets/output",
          "model_name": "OutputModel",
          "state": {
            "_view_name": "OutputView",
            "msg_id": "",
            "_dom_classes": [],
            "_model_name": "OutputModel",
            "outputs": [
              {
                "output_type": "stream",
                "metadata": {
                  "tags": []
                },
                "text": "My name is a\n",
                "stream": "stdout"
              }
            ],
            "_view_module": "@jupyter-widgets/output",
            "_model_module_version": "1.0.0",
            "_view_count": null,
            "_view_module_version": "1.0.0",
            "layout": "IPY_MODEL_0b5c925759624e49be6dd6f107924096",
            "_model_module": "@jupyter-widgets/output"
          }
        },
        "7c0f10c76c30409f84c795e60be4ac78": {
          "model_module": "@jupyter-widgets/controls",
          "model_name": "DescriptionStyleModel",
          "state": {
            "_view_name": "StyleView",
            "_model_name": "DescriptionStyleModel",
            "description_width": "",
            "_view_module": "@jupyter-widgets/base",
            "_model_module_version": "1.5.0",
            "_view_count": null,
            "_view_module_version": "1.2.0",
            "_model_module": "@jupyter-widgets/controls"
          }
        },
        "6f8f48be313d4da583a552c76564af5d": {
          "model_module": "@jupyter-widgets/base",
          "model_name": "LayoutModel",
          "state": {
            "_view_name": "LayoutView",
            "grid_template_rows": null,
            "right": null,
            "justify_content": null,
            "_view_module": "@jupyter-widgets/base",
            "overflow": null,
            "_model_module_version": "1.2.0",
            "_view_count": null,
            "flex_flow": null,
            "width": null,
            "min_width": null,
            "border": null,
            "align_items": null,
            "bottom": null,
            "_model_module": "@jupyter-widgets/base",
            "top": null,
            "grid_column": null,
            "overflow_y": null,
            "overflow_x": null,
            "grid_auto_flow": null,
            "grid_area": null,
            "grid_template_columns": null,
            "flex": null,
            "_model_name": "LayoutModel",
            "justify_items": null,
            "grid_row": null,
            "max_height": null,
            "align_content": null,
            "visibility": null,
            "align_self": null,
            "height": null,
            "min_height": null,
            "padding": null,
            "grid_auto_rows": null,
            "grid_gap": null,
            "max_width": null,
            "order": null,
            "_view_module_version": "1.2.0",
            "grid_template_areas": null,
            "object_position": null,
            "object_fit": null,
            "grid_auto_columns": null,
            "margin": null,
            "display": null,
            "left": null
          }
        },
        "0b5c925759624e49be6dd6f107924096": {
          "model_module": "@jupyter-widgets/base",
          "model_name": "LayoutModel",
          "state": {
            "_view_name": "LayoutView",
            "grid_template_rows": null,
            "right": null,
            "justify_content": null,
            "_view_module": "@jupyter-widgets/base",
            "overflow": null,
            "_model_module_version": "1.2.0",
            "_view_count": null,
            "flex_flow": null,
            "width": null,
            "min_width": null,
            "border": null,
            "align_items": null,
            "bottom": null,
            "_model_module": "@jupyter-widgets/base",
            "top": null,
            "grid_column": null,
            "overflow_y": null,
            "overflow_x": null,
            "grid_auto_flow": null,
            "grid_area": null,
            "grid_template_columns": null,
            "flex": null,
            "_model_name": "LayoutModel",
            "justify_items": null,
            "grid_row": null,
            "max_height": null,
            "align_content": null,
            "visibility": null,
            "align_self": null,
            "height": null,
            "min_height": null,
            "padding": null,
            "grid_auto_rows": null,
            "grid_gap": null,
            "max_width": null,
            "order": null,
            "_view_module_version": "1.2.0",
            "grid_template_areas": null,
            "object_position": null,
            "object_fit": null,
            "grid_auto_columns": null,
            "margin": null,
            "display": null,
            "left": null
          }
        },
        "26d7ec49682940b0b81847e48410da24": {
          "model_module": "@jupyter-widgets/controls",
          "model_name": "VBoxModel",
          "state": {
            "_view_name": "VBoxView",
            "_dom_classes": [
              "widget-interact"
            ],
            "_model_name": "VBoxModel",
            "_view_module": "@jupyter-widgets/controls",
            "_model_module_version": "1.5.0",
            "_view_count": null,
            "_view_module_version": "1.5.0",
            "box_style": "",
            "layout": "IPY_MODEL_5c8167c253f74c0287595ff1f7f28f32",
            "_model_module": "@jupyter-widgets/controls",
            "children": [
              "IPY_MODEL_af072adee02841e98744530bdf86b832",
              "IPY_MODEL_603f9ea48a7d42c48385a0ebbccf7a4d",
              "IPY_MODEL_d6d45fd74c844029a1a7ca317440ec91",
              "IPY_MODEL_267c59416dcf4c5fa1e17161e088d99d"
            ]
          }
        },
        "5c8167c253f74c0287595ff1f7f28f32": {
          "model_module": "@jupyter-widgets/base",
          "model_name": "LayoutModel",
          "state": {
            "_view_name": "LayoutView",
            "grid_template_rows": null,
            "right": null,
            "justify_content": null,
            "_view_module": "@jupyter-widgets/base",
            "overflow": null,
            "_model_module_version": "1.2.0",
            "_view_count": null,
            "flex_flow": null,
            "width": null,
            "min_width": null,
            "border": null,
            "align_items": null,
            "bottom": null,
            "_model_module": "@jupyter-widgets/base",
            "top": null,
            "grid_column": null,
            "overflow_y": null,
            "overflow_x": null,
            "grid_auto_flow": null,
            "grid_area": null,
            "grid_template_columns": null,
            "flex": null,
            "_model_name": "LayoutModel",
            "justify_items": null,
            "grid_row": null,
            "max_height": null,
            "align_content": null,
            "visibility": null,
            "align_self": null,
            "height": null,
            "min_height": null,
            "padding": null,
            "grid_auto_rows": null,
            "grid_gap": null,
            "max_width": null,
            "order": null,
            "_view_module_version": "1.2.0",
            "grid_template_areas": null,
            "object_position": null,
            "object_fit": null,
            "grid_auto_columns": null,
            "margin": null,
            "display": null,
            "left": null
          }
        },
        "af072adee02841e98744530bdf86b832": {
          "model_module": "@jupyter-widgets/controls",
          "model_name": "IntSliderModel",
          "state": {
            "_view_name": "IntSliderView",
            "style": "IPY_MODEL_f2e5c6ce70cd45baa1b9a5515214cb2c",
            "_dom_classes": [],
            "description": "w",
            "step": 1,
            "_model_name": "IntSliderModel",
            "orientation": "horizontal",
            "max": 10,
            "_view_module": "@jupyter-widgets/controls",
            "_model_module_version": "1.5.0",
            "value": 5,
            "_view_count": null,
            "disabled": false,
            "_view_module_version": "1.5.0",
            "min": 0,
            "continuous_update": true,
            "readout_format": "d",
            "description_tooltip": null,
            "readout": true,
            "_model_module": "@jupyter-widgets/controls",
            "layout": "IPY_MODEL_f70f896825564420a2d66fbf6b3c4942"
          }
        },
        "603f9ea48a7d42c48385a0ebbccf7a4d": {
          "model_module": "@jupyter-widgets/controls",
          "model_name": "FloatSliderModel",
          "state": {
            "_view_name": "FloatSliderView",
            "style": "IPY_MODEL_2c6b88615b164f7eae5cd2c3077a05f1",
            "_dom_classes": [],
            "description": "amp",
            "step": 0.1,
            "_model_name": "FloatSliderModel",
            "orientation": "horizontal",
            "max": 4,
            "_view_module": "@jupyter-widgets/controls",
            "_model_module_version": "1.5.0",
            "value": 2,
            "_view_count": null,
            "disabled": false,
            "_view_module_version": "1.5.0",
            "min": 0,
            "continuous_update": true,
            "readout_format": ".2f",
            "description_tooltip": null,
            "readout": true,
            "_model_module": "@jupyter-widgets/controls",
            "layout": "IPY_MODEL_da19fa7f0bd24a9f9f6d597724874110"
          }
        },
        "d6d45fd74c844029a1a7ca317440ec91": {
          "model_module": "@jupyter-widgets/controls",
          "model_name": "FloatSliderModel",
          "state": {
            "_view_name": "FloatSliderView",
            "style": "IPY_MODEL_928359cffd6e4a949513b77b65cf3ab5",
            "_dom_classes": [],
            "description": "phi",
            "step": 0.01,
            "_model_name": "FloatSliderModel",
            "orientation": "horizontal",
            "max": 6.293185307179586,
            "_view_module": "@jupyter-widgets/controls",
            "_model_module_version": "1.5.0",
            "value": 3.14,
            "_view_count": null,
            "disabled": false,
            "_view_module_version": "1.5.0",
            "min": 0,
            "continuous_update": true,
            "readout_format": ".2f",
            "description_tooltip": null,
            "readout": true,
            "_model_module": "@jupyter-widgets/controls",
            "layout": "IPY_MODEL_09d838d3f40e4e589bcdf1e51b1dbff5"
          }
        },
        "267c59416dcf4c5fa1e17161e088d99d": {
          "model_module": "@jupyter-widgets/output",
          "model_name": "OutputModel",
          "state": {
            "_view_name": "OutputView",
            "msg_id": "",
            "_dom_classes": [],
            "_model_name": "OutputModel",
            "outputs": [
              {
                "output_type": "stream",
                "metadata": {
                  "tags": []
                },
                "text": "5 2.0 3.14\n",
                "stream": "stdout"
              },
              {
                "output_type": "display_data",
                "metadata": {
                  "tags": [],
                  "needs_background": "light"
                },
                "image/png": "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\n",
                "text/plain": "<Figure size 576x432 with 1 Axes>"
              }
            ],
            "_view_module": "@jupyter-widgets/output",
            "_model_module_version": "1.0.0",
            "_view_count": null,
            "_view_module_version": "1.0.0",
            "layout": "IPY_MODEL_b2754227991e4233ac6ce05827e29eb1",
            "_model_module": "@jupyter-widgets/output"
          }
        },
        "f2e5c6ce70cd45baa1b9a5515214cb2c": {
          "model_module": "@jupyter-widgets/controls",
          "model_name": "SliderStyleModel",
          "state": {
            "_view_name": "StyleView",
            "handle_color": null,
            "_model_name": "SliderStyleModel",
            "description_width": "",
            "_view_module": "@jupyter-widgets/base",
            "_model_module_version": "1.5.0",
            "_view_count": null,
            "_view_module_version": "1.2.0",
            "_model_module": "@jupyter-widgets/controls"
          }
        },
        "f70f896825564420a2d66fbf6b3c4942": {
          "model_module": "@jupyter-widgets/base",
          "model_name": "LayoutModel",
          "state": {
            "_view_name": "LayoutView",
            "grid_template_rows": null,
            "right": null,
            "justify_content": null,
            "_view_module": "@jupyter-widgets/base",
            "overflow": null,
            "_model_module_version": "1.2.0",
            "_view_count": null,
            "flex_flow": null,
            "width": null,
            "min_width": null,
            "border": null,
            "align_items": null,
            "bottom": null,
            "_model_module": "@jupyter-widgets/base",
            "top": null,
            "grid_column": null,
            "overflow_y": null,
            "overflow_x": null,
            "grid_auto_flow": null,
            "grid_area": null,
            "grid_template_columns": null,
            "flex": null,
            "_model_name": "LayoutModel",
            "justify_items": null,
            "grid_row": null,
            "max_height": null,
            "align_content": null,
            "visibility": null,
            "align_self": null,
            "height": null,
            "min_height": null,
            "padding": null,
            "grid_auto_rows": null,
            "grid_gap": null,
            "max_width": null,
            "order": null,
            "_view_module_version": "1.2.0",
            "grid_template_areas": null,
            "object_position": null,
            "object_fit": null,
            "grid_auto_columns": null,
            "margin": null,
            "display": null,
            "left": null
          }
        },
        "2c6b88615b164f7eae5cd2c3077a05f1": {
          "model_module": "@jupyter-widgets/controls",
          "model_name": "SliderStyleModel",
          "state": {
            "_view_name": "StyleView",
            "handle_color": null,
            "_model_name": "SliderStyleModel",
            "description_width": "",
            "_view_module": "@jupyter-widgets/base",
            "_model_module_version": "1.5.0",
            "_view_count": null,
            "_view_module_version": "1.2.0",
            "_model_module": "@jupyter-widgets/controls"
          }
        },
        "da19fa7f0bd24a9f9f6d597724874110": {
          "model_module": "@jupyter-widgets/base",
          "model_name": "LayoutModel",
          "state": {
            "_view_name": "LayoutView",
            "grid_template_rows": null,
            "right": null,
            "justify_content": null,
            "_view_module": "@jupyter-widgets/base",
            "overflow": null,
            "_model_module_version": "1.2.0",
            "_view_count": null,
            "flex_flow": null,
            "width": null,
            "min_width": null,
            "border": null,
            "align_items": null,
            "bottom": null,
            "_model_module": "@jupyter-widgets/base",
            "top": null,
            "grid_column": null,
            "overflow_y": null,
            "overflow_x": null,
            "grid_auto_flow": null,
            "grid_area": null,
            "grid_template_columns": null,
            "flex": null,
            "_model_name": "LayoutModel",
            "justify_items": null,
            "grid_row": null,
            "max_height": null,
            "align_content": null,
            "visibility": null,
            "align_self": null,
            "height": null,
            "min_height": null,
            "padding": null,
            "grid_auto_rows": null,
            "grid_gap": null,
            "max_width": null,
            "order": null,
            "_view_module_version": "1.2.0",
            "grid_template_areas": null,
            "object_position": null,
            "object_fit": null,
            "grid_auto_columns": null,
            "margin": null,
            "display": null,
            "left": null
          }
        },
        "928359cffd6e4a949513b77b65cf3ab5": {
          "model_module": "@jupyter-widgets/controls",
          "model_name": "SliderStyleModel",
          "state": {
            "_view_name": "StyleView",
            "handle_color": null,
            "_model_name": "SliderStyleModel",
            "description_width": "",
            "_view_module": "@jupyter-widgets/base",
            "_model_module_version": "1.5.0",
            "_view_count": null,
            "_view_module_version": "1.2.0",
            "_model_module": "@jupyter-widgets/controls"
          }
        },
        "09d838d3f40e4e589bcdf1e51b1dbff5": {
          "model_module": "@jupyter-widgets/base",
          "model_name": "LayoutModel",
          "state": {
            "_view_name": "LayoutView",
            "grid_template_rows": null,
            "right": null,
            "justify_content": null,
            "_view_module": "@jupyter-widgets/base",
            "overflow": null,
            "_model_module_version": "1.2.0",
            "_view_count": null,
            "flex_flow": null,
            "width": null,
            "min_width": null,
            "border": null,
            "align_items": null,
            "bottom": null,
            "_model_module": "@jupyter-widgets/base",
            "top": null,
            "grid_column": null,
            "overflow_y": null,
            "overflow_x": null,
            "grid_auto_flow": null,
            "grid_area": null,
            "grid_template_columns": null,
            "flex": null,
            "_model_name": "LayoutModel",
            "justify_items": null,
            "grid_row": null,
            "max_height": null,
            "align_content": null,
            "visibility": null,
            "align_self": null,
            "height": null,
            "min_height": null,
            "padding": null,
            "grid_auto_rows": null,
            "grid_gap": null,
            "max_width": null,
            "order": null,
            "_view_module_version": "1.2.0",
            "grid_template_areas": null,
            "object_position": null,
            "object_fit": null,
            "grid_auto_columns": null,
            "margin": null,
            "display": null,
            "left": null
          }
        },
        "b2754227991e4233ac6ce05827e29eb1": {
          "model_module": "@jupyter-widgets/base",
          "model_name": "LayoutModel",
          "state": {
            "_view_name": "LayoutView",
            "grid_template_rows": null,
            "right": null,
            "justify_content": null,
            "_view_module": "@jupyter-widgets/base",
            "overflow": null,
            "_model_module_version": "1.2.0",
            "_view_count": null,
            "flex_flow": null,
            "width": null,
            "min_width": null,
            "border": null,
            "align_items": null,
            "bottom": null,
            "_model_module": "@jupyter-widgets/base",
            "top": null,
            "grid_column": null,
            "overflow_y": null,
            "overflow_x": null,
            "grid_auto_flow": null,
            "grid_area": null,
            "grid_template_columns": null,
            "flex": null,
            "_model_name": "LayoutModel",
            "justify_items": null,
            "grid_row": null,
            "max_height": null,
            "align_content": null,
            "visibility": null,
            "align_self": null,
            "height": null,
            "min_height": null,
            "padding": null,
            "grid_auto_rows": null,
            "grid_gap": null,
            "max_width": null,
            "order": null,
            "_view_module_version": "1.2.0",
            "grid_template_areas": null,
            "object_position": null,
            "object_fit": null,
            "grid_auto_columns": null,
            "margin": null,
            "display": null,
            "left": null
          }
        }
      }
    }
  },
  "cells": [
    {
      "cell_type": "markdown",
      "metadata": {
        "id": "view-in-github",
        "colab_type": "text"
      },
      "source": [
        "<a href=\"https://colab.research.google.com/github/seninbuellerin/Proektirovanie-IS/blob/master/%D0%9F%D1%80%D0%B0%D0%BA%D1%82%D0%B8%D1%87%D0%B5%D1%81%D0%BA%D0%B0%D1%8F_%D1%80%D0%B0%D0%B1%D0%BE%D1%82%D0%B0_2(27_02_2021).ipynb\" target=\"_parent\"><img src=\"https://colab.research.google.com/assets/colab-badge.svg\" alt=\"Open In Colab\"/></a>"
      ]
    },
    {
      "cell_type": "markdown",
      "metadata": {
        "id": "5xCCs0X3mFTb"
      },
      "source": [
        "#Basics"
      ]
    },
    {
      "cell_type": "code",
      "metadata": {
        "id": "wnsMBT_jmMAt"
      },
      "source": [
        "import ipywidgets as widgets\r\n"
      ],
      "execution_count": null,
      "outputs": []
    },
    {
      "cell_type": "code",
      "metadata": {
        "colab": {
          "base_uri": "https://localhost:8080/",
          "height": 49,
          "referenced_widgets": [
            "f43d98075ed04c8abe0beb2b99df54d9",
            "0eb230576d1c4647a16efc7b9bf5c8fe",
            "22448e180ab94ed4bbdca6edefde096d"
          ]
        },
        "id": "y8ym3oOwmpHI",
        "outputId": "3588ce58-921d-4475-fe8c-43a1f74d6cde"
      },
      "source": [
        "sl1 = widgets.IntSlider()\r\n",
        "sl1"
      ],
      "execution_count": null,
      "outputs": [
        {
          "output_type": "display_data",
          "data": {
            "application/vnd.jupyter.widget-view+json": {
              "model_id": "f43d98075ed04c8abe0beb2b99df54d9",
              "version_minor": 0,
              "version_major": 2
            },
            "text/plain": [
              "IntSlider(value=0)"
            ]
          },
          "metadata": {
            "tags": []
          }
        }
      ]
    },
    {
      "cell_type": "code",
      "metadata": {
        "id": "gMrcgcXLm_PR"
      },
      "source": [
        "sl2.value=25"
      ],
      "execution_count": null,
      "outputs": []
    },
    {
      "cell_type": "code",
      "metadata": {
        "colab": {
          "base_uri": "https://localhost:8080/",
          "height": 49,
          "referenced_widgets": [
            "af86cf1ed2414eacbbdbdaec81bb6afb",
            "7eb532ce24b743ca8c467ce74f875e43",
            "4d31217c3b1d406f89efde059ad02e5c"
          ]
        },
        "id": "cDu6e2YWm01F",
        "outputId": "0310c626-de16-4db5-e067-4d99fc2b58dd"
      },
      "source": [
        "sl2 = widgets.IntSlider()\r\n",
        "sl2"
      ],
      "execution_count": null,
      "outputs": [
        {
          "output_type": "display_data",
          "data": {
            "application/vnd.jupyter.widget-view+json": {
              "model_id": "af86cf1ed2414eacbbdbdaec81bb6afb",
              "version_minor": 0,
              "version_major": 2
            },
            "text/plain": [
              "IntSlider(value=0)"
            ]
          },
          "metadata": {
            "tags": []
          }
        }
      ]
    },
    {
      "cell_type": "code",
      "metadata": {
        "colab": {
          "base_uri": "https://localhost:8080/",
          "height": 79,
          "referenced_widgets": [
            "f43d98075ed04c8abe0beb2b99df54d9",
            "0eb230576d1c4647a16efc7b9bf5c8fe",
            "22448e180ab94ed4bbdca6edefde096d",
            "af86cf1ed2414eacbbdbdaec81bb6afb",
            "7eb532ce24b743ca8c467ce74f875e43",
            "4d31217c3b1d406f89efde059ad02e5c"
          ]
        },
        "id": "TuLmXikqncxD",
        "outputId": "00923e0d-ef42-4452-ffbc-4a9366f606f8"
      },
      "source": [
        "from IPython.display import display\r\n",
        "display(sl1,sl2)"
      ],
      "execution_count": null,
      "outputs": [
        {
          "output_type": "display_data",
          "data": {
            "application/vnd.jupyter.widget-view+json": {
              "model_id": "f43d98075ed04c8abe0beb2b99df54d9",
              "version_minor": 0,
              "version_major": 2
            },
            "text/plain": [
              "IntSlider(value=17)"
            ]
          },
          "metadata": {
            "tags": []
          }
        },
        {
          "output_type": "display_data",
          "data": {
            "application/vnd.jupyter.widget-view+json": {
              "model_id": "af86cf1ed2414eacbbdbdaec81bb6afb",
              "version_minor": 0,
              "version_major": 2
            },
            "text/plain": [
              "IntSlider(value=21)"
            ]
          },
          "metadata": {
            "tags": []
          }
        }
      ]
    },
    {
      "cell_type": "code",
      "metadata": {
        "colab": {
          "base_uri": "https://localhost:8080/",
          "height": 49,
          "referenced_widgets": [
            "82bff99802b94d1bbbfa407cd5397f50",
            "f688cefbe85745cda26fe67fe24fd594",
            "a0b006b790364add84b5a62631312cfc"
          ]
        },
        "id": "UmW_MotboHYX",
        "outputId": "6e799e86-9868-4f03-d9ef-e36ff2ca49a5"
      },
      "source": [
        "name= widgets.Text(value=\"Марина\")\r\n",
        "display(name)"
      ],
      "execution_count": null,
      "outputs": [
        {
          "output_type": "display_data",
          "data": {
            "application/vnd.jupyter.widget-view+json": {
              "model_id": "82bff99802b94d1bbbfa407cd5397f50",
              "version_minor": 0,
              "version_major": 2
            },
            "text/plain": [
              "Text(value='Марина')"
            ]
          },
          "metadata": {
            "tags": []
          }
        }
      ]
    },
    {
      "cell_type": "code",
      "metadata": {
        "id": "zS9TJwTPpTo8"
      },
      "source": [
        "import time\r\n",
        "pb1=widgets.IntProgress(value=0,\r\n",
        "                        min=1,\r\n",
        "                        max=100,\r\n",
        "                        description='Loading',\r\n",
        "                        bar_style='success',\r\n",
        "                        orientation='horizontal'\r\n",
        "                        )"
      ],
      "execution_count": null,
      "outputs": []
    },
    {
      "cell_type": "code",
      "metadata": {
        "colab": {
          "base_uri": "https://localhost:8080/",
          "height": 49,
          "referenced_widgets": [
            "e364ecb7448f4a4a863df2dfca7e6479",
            "447e8621c08943e1bb128e751144eea0",
            "d8bca7627d1b49809f017177c9d6dca5"
          ]
        },
        "id": "RbK2IKh0qGbI",
        "outputId": "f849c9c8-de7a-41e0-a322-3623bd2f2150"
      },
      "source": [
        "display(pb1)\r\n",
        "\r\n",
        "for i in range(100):\r\n",
        "  pb1.value=i+1\r\n",
        "  time.sleep(0.25)"
      ],
      "execution_count": null,
      "outputs": [
        {
          "output_type": "display_data",
          "data": {
            "application/vnd.jupyter.widget-view+json": {
              "model_id": "e364ecb7448f4a4a863df2dfca7e6479",
              "version_minor": 0,
              "version_major": 2
            },
            "text/plain": [
              "IntProgress(value=1, bar_style='success', description='Loading', min=1)"
            ]
          },
          "metadata": {
            "tags": []
          }
        }
      ]
    },
    {
      "cell_type": "markdown",
      "metadata": {
        "id": "oLNd6ew2rgPU"
      },
      "source": [
        "#Button"
      ]
    },
    {
      "cell_type": "code",
      "metadata": {
        "colab": {
          "base_uri": "https://localhost:8080/",
          "height": 49,
          "referenced_widgets": [
            "14023602306b4170b64507096463593a",
            "7ca661d4f0934e9184f00198d871f1a0",
            "7a3391b45d9d44d9b28078deaabe88c2"
          ]
        },
        "id": "2_Y5fFmXrkfR",
        "outputId": "b0c258ba-8e13-4854-bf75-044eff8927ad"
      },
      "source": [
        "knopka1=widgets.Button(description=\"Click Me\")\r\n",
        "output= widgets.Output()\r\n",
        "\r\n",
        "display(knopka1)"
      ],
      "execution_count": null,
      "outputs": [
        {
          "output_type": "display_data",
          "data": {
            "application/vnd.jupyter.widget-view+json": {
              "model_id": "14023602306b4170b64507096463593a",
              "version_minor": 0,
              "version_major": 2
            },
            "text/plain": [
              "Button(description='Click Me', style=ButtonStyle())"
            ]
          },
          "metadata": {
            "tags": []
          }
        }
      ]
    },
    {
      "cell_type": "code",
      "metadata": {
        "id": "6jRNMpUWrrXR"
      },
      "source": [
        "def on_my_knopka_click(b):\r\n",
        "  with output:\r\n",
        "    print(\"Кнопка нажата (msg1).\")\r\n",
        "    print(\"Кнопка нажата (msg2).\")"
      ],
      "execution_count": null,
      "outputs": []
    },
    {
      "cell_type": "code",
      "metadata": {
        "colab": {
          "base_uri": "https://localhost:8080/",
          "height": 82,
          "referenced_widgets": [
            "14023602306b4170b64507096463593a",
            "7ca661d4f0934e9184f00198d871f1a0",
            "7a3391b45d9d44d9b28078deaabe88c2",
            "33d8cd0581024377852ac84e0dc18609",
            "e5c2eecd24984e3098e2ca2c44518a5d"
          ]
        },
        "id": "AX2iFxEKtMZM",
        "outputId": "5acec07e-09b4-43bf-f475-8cf07e021b11"
      },
      "source": [
        "knopka1.on_click(on_my_knopka_click)\r\n",
        "display(knopka1, output)"
      ],
      "execution_count": null,
      "outputs": [
        {
          "output_type": "display_data",
          "data": {
            "application/vnd.jupyter.widget-view+json": {
              "model_id": "14023602306b4170b64507096463593a",
              "version_minor": 0,
              "version_major": 2
            },
            "text/plain": [
              "Button(description='Click Me', style=ButtonStyle())"
            ]
          },
          "metadata": {
            "tags": []
          }
        },
        {
          "output_type": "display_data",
          "data": {
            "application/vnd.jupyter.widget-view+json": {
              "model_id": "33d8cd0581024377852ac84e0dc18609",
              "version_minor": 0,
              "version_major": 2
            },
            "text/plain": [
              "Output()"
            ]
          },
          "metadata": {
            "tags": []
          }
        }
      ]
    },
    {
      "cell_type": "code",
      "metadata": {
        "id": "YdMnDDmIuRjT"
      },
      "source": [
        "def on_my_knopka_click(a):\r\n",
        "  with output:\r\n",
        "    output.clear_output()\r\n",
        "    print(\"Кнопка нажата (msg1).\")\r\n",
        "    print(\"Кнопка нажата (msg2).\")"
      ],
      "execution_count": null,
      "outputs": []
    },
    {
      "cell_type": "code",
      "metadata": {
        "colab": {
          "base_uri": "https://localhost:8080/",
          "height": 82,
          "referenced_widgets": [
            "14023602306b4170b64507096463593a",
            "7ca661d4f0934e9184f00198d871f1a0",
            "7a3391b45d9d44d9b28078deaabe88c2",
            "33d8cd0581024377852ac84e0dc18609",
            "e5c2eecd24984e3098e2ca2c44518a5d"
          ]
        },
        "id": "nS2iZTJ8ufBr",
        "outputId": "43086c6e-5383-4c87-9720-cb20efb13ceb"
      },
      "source": [
        "knopka1.on_click(on_my_knopka_click)\r\n",
        "display(knopka1, output)"
      ],
      "execution_count": null,
      "outputs": [
        {
          "output_type": "display_data",
          "data": {
            "application/vnd.jupyter.widget-view+json": {
              "model_id": "14023602306b4170b64507096463593a",
              "version_minor": 0,
              "version_major": 2
            },
            "text/plain": [
              "Button(description='Click Me', style=ButtonStyle())"
            ]
          },
          "metadata": {
            "tags": []
          }
        },
        {
          "output_type": "display_data",
          "data": {
            "application/vnd.jupyter.widget-view+json": {
              "model_id": "33d8cd0581024377852ac84e0dc18609",
              "version_minor": 0,
              "version_major": 2
            },
            "text/plain": [
              "Output()"
            ]
          },
          "metadata": {
            "tags": []
          }
        }
      ]
    },
    {
      "cell_type": "markdown",
      "metadata": {
        "id": "jc_0QEY-uqtx"
      },
      "source": [
        "#Interact"
      ]
    },
    {
      "cell_type": "code",
      "metadata": {
        "colab": {
          "base_uri": "https://localhost:8080/",
          "height": 66,
          "referenced_widgets": [
            "5a3d3d2206284a5bb006f1eee2993d13",
            "627a648a3ea941c3af05dbdd9178d877",
            "8243a1b945e74cf6a8e45c1b4bc746b2",
            "86f1c560f9c14958977156c4265c5fc0",
            "7c0f10c76c30409f84c795e60be4ac78",
            "6f8f48be313d4da583a552c76564af5d",
            "0b5c925759624e49be6dd6f107924096"
          ]
        },
        "id": "ckk3xYOsuvwP",
        "outputId": "e74b2faf-82ff-4374-b7be-efc713326738"
      },
      "source": [
        "def sat_me_name(name):\r\n",
        "  print(f\"My name is {name}\")\r\n",
        "widgets.interact(sat_me_name,name=[\"a\",\"b\",\"c\",\"d\"]);"
      ],
      "execution_count": null,
      "outputs": [
        {
          "output_type": "display_data",
          "data": {
            "application/vnd.jupyter.widget-view+json": {
              "model_id": "5a3d3d2206284a5bb006f1eee2993d13",
              "version_minor": 0,
              "version_major": 2
            },
            "text/plain": [
              "interactive(children=(Dropdown(description='name', options=('a', 'b', 'c', 'd'), value='a'), Output()), _dom_c…"
            ]
          },
          "metadata": {
            "tags": []
          }
        }
      ]
    },
    {
      "cell_type": "code",
      "metadata": {
        "id": "XrsFmzi5vuqs"
      },
      "source": [
        "import numpy as np\r\n",
        "import matplotlib.pyplot as plt\r\n"
      ],
      "execution_count": null,
      "outputs": []
    },
    {
      "cell_type": "code",
      "metadata": {
        "id": "WNejEIWEv6HT"
      },
      "source": [
        "x=np.linspace(0,2*np.pi,1000)"
      ],
      "execution_count": null,
      "outputs": []
    },
    {
      "cell_type": "code",
      "metadata": {
        "id": "FwrS-dqGwITH"
      },
      "source": [
        "def me_sin(x,amp,w,phi):\r\n",
        "  return (amp*np.sin(w*(x-phi)))\r\n",
        "\r\n",
        "%matplotlib inline\r\n"
      ],
      "execution_count": null,
      "outputs": []
    },
    {
      "cell_type": "code",
      "metadata": {
        "colab": {
          "base_uri": "https://localhost:8080/",
          "height": 508,
          "referenced_widgets": [
            "26d7ec49682940b0b81847e48410da24",
            "5c8167c253f74c0287595ff1f7f28f32",
            "af072adee02841e98744530bdf86b832",
            "603f9ea48a7d42c48385a0ebbccf7a4d",
            "d6d45fd74c844029a1a7ca317440ec91",
            "267c59416dcf4c5fa1e17161e088d99d",
            "f2e5c6ce70cd45baa1b9a5515214cb2c",
            "f70f896825564420a2d66fbf6b3c4942",
            "2c6b88615b164f7eae5cd2c3077a05f1",
            "da19fa7f0bd24a9f9f6d597724874110",
            "928359cffd6e4a949513b77b65cf3ab5",
            "09d838d3f40e4e589bcdf1e51b1dbff5",
            "b2754227991e4233ac6ce05827e29eb1"
          ]
        },
        "id": "ibkvMjRrwfEM",
        "outputId": "0f0c736b-570c-4249-fc0c-aa5dfd8f732e"
      },
      "source": [
        "def draw_sin(w,amp,phi):\r\n",
        "  y=me_sin(x,amp,w,phi)\r\n",
        "  fig,ax=plt.subplots(figsize=(8,6))\r\n",
        "  ax.set_ylim([-4,4])\r\n",
        "  ax.grid(True)\r\n",
        "  ax.plot(x,y,color='red')\r\n",
        "\r\n",
        "  print(w,amp,phi)\r\n",
        "widgets.interact(draw_sin,\r\n",
        "                 w=(0,10,1,),\r\n",
        "                 amp=(0,4,.1),\r\n",
        "                 phi=(0,2*np.pi+0.01,0.01)\r\n",
        ")"
      ],
      "execution_count": null,
      "outputs": [
        {
          "output_type": "display_data",
          "data": {
            "application/vnd.jupyter.widget-view+json": {
              "model_id": "26d7ec49682940b0b81847e48410da24",
              "version_minor": 0,
              "version_major": 2
            },
            "text/plain": [
              "interactive(children=(IntSlider(value=5, description='w', max=10), FloatSlider(value=2.0, description='amp', m…"
            ]
          },
          "metadata": {
            "tags": []
          }
        },
        {
          "output_type": "execute_result",
          "data": {
            "text/plain": [
              "<function __main__.draw_sin>"
            ]
          },
          "metadata": {
            "tags": []
          },
          "execution_count": 29
        }
      ]
    },
    {
      "cell_type": "markdown",
      "metadata": {
        "id": "2RGT891q1MCp"
      },
      "source": [
        "#data"
      ]
    },
    {
      "cell_type": "code",
      "metadata": {
        "colab": {
          "base_uri": "https://localhost:8080/"
        },
        "id": "B1SwZ_Xx1Zfw",
        "outputId": "bc2387cf-1065-4e8e-bc83-f7806493e459"
      },
      "source": [
        "import pandas as pd\r\n",
        "data1 = pd.read_csv('/content/sample_data/california_housing_test.csv')\r\n",
        "data1.info()"
      ],
      "execution_count": null,
      "outputs": [
        {
          "output_type": "stream",
          "text": [
            "<class 'pandas.core.frame.DataFrame'>\n",
            "RangeIndex: 3000 entries, 0 to 2999\n",
            "Data columns (total 9 columns):\n",
            " #   Column              Non-Null Count  Dtype  \n",
            "---  ------              --------------  -----  \n",
            " 0   longitude           3000 non-null   float64\n",
            " 1   latitude            3000 non-null   float64\n",
            " 2   housing_median_age  3000 non-null   float64\n",
            " 3   total_rooms         3000 non-null   float64\n",
            " 4   total_bedrooms      3000 non-null   float64\n",
            " 5   population          3000 non-null   float64\n",
            " 6   households          3000 non-null   float64\n",
            " 7   median_income       3000 non-null   float64\n",
            " 8   median_house_value  3000 non-null   float64\n",
            "dtypes: float64(9)\n",
            "memory usage: 211.1 KB\n"
          ],
          "name": "stdout"
        }
      ]
    },
    {
      "cell_type": "code",
      "metadata": {
        "colab": {
          "base_uri": "https://localhost:8080/",
          "height": 284
        },
        "id": "aDXJTJFd2JDO",
        "outputId": "67a143e2-3740-420a-8b56-16955406d61e"
      },
      "source": [
        "data1.describe()"
      ],
      "execution_count": null,
      "outputs": [
        {
          "output_type": "execute_result",
          "data": {
            "text/html": [
              "<div>\n",
              "<style scoped>\n",
              "    .dataframe tbody tr th:only-of-type {\n",
              "        vertical-align: middle;\n",
              "    }\n",
              "\n",
              "    .dataframe tbody tr th {\n",
              "        vertical-align: top;\n",
              "    }\n",
              "\n",
              "    .dataframe thead th {\n",
              "        text-align: right;\n",
              "    }\n",
              "</style>\n",
              "<table border=\"1\" class=\"dataframe\">\n",
              "  <thead>\n",
              "    <tr style=\"text-align: right;\">\n",
              "      <th></th>\n",
              "      <th>longitude</th>\n",
              "      <th>latitude</th>\n",
              "      <th>housing_median_age</th>\n",
              "      <th>total_rooms</th>\n",
              "      <th>total_bedrooms</th>\n",
              "      <th>population</th>\n",
              "      <th>households</th>\n",
              "      <th>median_income</th>\n",
              "      <th>median_house_value</th>\n",
              "    </tr>\n",
              "  </thead>\n",
              "  <tbody>\n",
              "    <tr>\n",
              "      <th>count</th>\n",
              "      <td>3000.000000</td>\n",
              "      <td>3000.00000</td>\n",
              "      <td>3000.000000</td>\n",
              "      <td>3000.000000</td>\n",
              "      <td>3000.000000</td>\n",
              "      <td>3000.000000</td>\n",
              "      <td>3000.00000</td>\n",
              "      <td>3000.000000</td>\n",
              "      <td>3000.00000</td>\n",
              "    </tr>\n",
              "    <tr>\n",
              "      <th>mean</th>\n",
              "      <td>-119.589200</td>\n",
              "      <td>35.63539</td>\n",
              "      <td>28.845333</td>\n",
              "      <td>2599.578667</td>\n",
              "      <td>529.950667</td>\n",
              "      <td>1402.798667</td>\n",
              "      <td>489.91200</td>\n",
              "      <td>3.807272</td>\n",
              "      <td>205846.27500</td>\n",
              "    </tr>\n",
              "    <tr>\n",
              "      <th>std</th>\n",
              "      <td>1.994936</td>\n",
              "      <td>2.12967</td>\n",
              "      <td>12.555396</td>\n",
              "      <td>2155.593332</td>\n",
              "      <td>415.654368</td>\n",
              "      <td>1030.543012</td>\n",
              "      <td>365.42271</td>\n",
              "      <td>1.854512</td>\n",
              "      <td>113119.68747</td>\n",
              "    </tr>\n",
              "    <tr>\n",
              "      <th>min</th>\n",
              "      <td>-124.180000</td>\n",
              "      <td>32.56000</td>\n",
              "      <td>1.000000</td>\n",
              "      <td>6.000000</td>\n",
              "      <td>2.000000</td>\n",
              "      <td>5.000000</td>\n",
              "      <td>2.00000</td>\n",
              "      <td>0.499900</td>\n",
              "      <td>22500.00000</td>\n",
              "    </tr>\n",
              "    <tr>\n",
              "      <th>25%</th>\n",
              "      <td>-121.810000</td>\n",
              "      <td>33.93000</td>\n",
              "      <td>18.000000</td>\n",
              "      <td>1401.000000</td>\n",
              "      <td>291.000000</td>\n",
              "      <td>780.000000</td>\n",
              "      <td>273.00000</td>\n",
              "      <td>2.544000</td>\n",
              "      <td>121200.00000</td>\n",
              "    </tr>\n",
              "    <tr>\n",
              "      <th>50%</th>\n",
              "      <td>-118.485000</td>\n",
              "      <td>34.27000</td>\n",
              "      <td>29.000000</td>\n",
              "      <td>2106.000000</td>\n",
              "      <td>437.000000</td>\n",
              "      <td>1155.000000</td>\n",
              "      <td>409.50000</td>\n",
              "      <td>3.487150</td>\n",
              "      <td>177650.00000</td>\n",
              "    </tr>\n",
              "    <tr>\n",
              "      <th>75%</th>\n",
              "      <td>-118.020000</td>\n",
              "      <td>37.69000</td>\n",
              "      <td>37.000000</td>\n",
              "      <td>3129.000000</td>\n",
              "      <td>636.000000</td>\n",
              "      <td>1742.750000</td>\n",
              "      <td>597.25000</td>\n",
              "      <td>4.656475</td>\n",
              "      <td>263975.00000</td>\n",
              "    </tr>\n",
              "    <tr>\n",
              "      <th>max</th>\n",
              "      <td>-114.490000</td>\n",
              "      <td>41.92000</td>\n",
              "      <td>52.000000</td>\n",
              "      <td>30450.000000</td>\n",
              "      <td>5419.000000</td>\n",
              "      <td>11935.000000</td>\n",
              "      <td>4930.00000</td>\n",
              "      <td>15.000100</td>\n",
              "      <td>500001.00000</td>\n",
              "    </tr>\n",
              "  </tbody>\n",
              "</table>\n",
              "</div>"
            ],
            "text/plain": [
              "         longitude    latitude  ...  median_income  median_house_value\n",
              "count  3000.000000  3000.00000  ...    3000.000000          3000.00000\n",
              "mean   -119.589200    35.63539  ...       3.807272        205846.27500\n",
              "std       1.994936     2.12967  ...       1.854512        113119.68747\n",
              "min    -124.180000    32.56000  ...       0.499900         22500.00000\n",
              "25%    -121.810000    33.93000  ...       2.544000        121200.00000\n",
              "50%    -118.485000    34.27000  ...       3.487150        177650.00000\n",
              "75%    -118.020000    37.69000  ...       4.656475        263975.00000\n",
              "max    -114.490000    41.92000  ...      15.000100        500001.00000\n",
              "\n",
              "[8 rows x 9 columns]"
            ]
          },
          "metadata": {
            "tags": []
          },
          "execution_count": 31
        }
      ]
    }
  ]
}