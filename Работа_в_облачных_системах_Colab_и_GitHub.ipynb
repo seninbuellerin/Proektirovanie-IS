{
  "nbformat": 4,
  "nbformat_minor": 0,
  "metadata": {
    "colab": {
      "name": "Работа в облачных системах Colab и GitHub",
      "provenance": [],
      "collapsed_sections": [],
      "authorship_tag": "ABX9TyO7ftKA4xhjCPcJl+AHxnp6",
      "include_colab_link": true
    },
    "kernelspec": {
      "name": "python3",
      "display_name": "Python 3"
    }
  },
  "cells": [
    {
      "cell_type": "markdown",
      "metadata": {
        "id": "view-in-github",
        "colab_type": "text"
      },
      "source": [
        "<a href=\"https://colab.research.google.com/github/seninbuellerin/Proektirovanie-IS/blob/master/%D0%A0%D0%B0%D0%B1%D0%BE%D1%82%D0%B0_%D0%B2_%D0%BE%D0%B1%D0%BB%D0%B0%D1%87%D0%BD%D1%8B%D1%85_%D1%81%D0%B8%D1%81%D1%82%D0%B5%D0%BC%D0%B0%D1%85_Colab_%D0%B8_GitHub.ipynb\" target=\"_parent\"><img src=\"https://colab.research.google.com/assets/colab-badge.svg\" alt=\"Open In Colab\"/></a>"
      ]
    },
    {
      "cell_type": "markdown",
      "metadata": {
        "id": "QBJDcYQKPU3a"
      },
      "source": [
        "Куклина Марина Сергеевна, КИ19-20Б"
      ]
    },
    {
      "cell_type": "code",
      "metadata": {
        "colab": {
          "base_uri": "https://localhost:8080/"
        },
        "id": "q5oOXbjnPZSz",
        "outputId": "d0a42ee2-0b28-43c6-8fac-7a76f5ddef9b"
      },
      "source": [
        "print(\"Привет, мир!\")"
      ],
      "execution_count": 4,
      "outputs": [
        {
          "output_type": "stream",
          "text": [
            "Привет, мир!\n"
          ],
          "name": "stdout"
        }
      ]
    }
  ]
}